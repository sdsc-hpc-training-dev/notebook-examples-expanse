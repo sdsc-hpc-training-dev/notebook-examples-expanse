{
 "cells": [
  {
   "cell_type": "markdown",
   "metadata": {},
   "source": [
    "### Package Dependecies\n",
    "\n",
    "Make a new environment in conda  with python 3.6 ```conda create --name myenv python=3.6``` \n",
    "\n",
    "Check to see that the correct version of python is installed by using this command ```python --version```\n",
    "\n",
    "Install jupyter ```conda install jupyter```\n",
    "\n",
    "Install keras ```conda install keras```\n",
    "\n",
    "Install tensorflow 1.14 ```conda install tensorflow=1.14```\n",
    "\n",
    "Install Pillow 6.1 ```conda install pillow=6.1```\n",
    "\n",
    "Install Matplotlib 3.1 ```conda install matplotlib=3.1```"
   ]
  },
  {
   "cell_type": "code",
   "execution_count": 16,
   "metadata": {},
   "outputs": [
    {
     "name": "stdout",
     "output_type": "stream",
     "text": [
      "Collecting package metadata (current_repodata.json): done\n",
      "Solving environment: done\n",
      "\n",
      "\n",
      "==> WARNING: A newer version of conda exists. <==\n",
      "  current version: 4.10.1\n",
      "  latest version: 24.5.0\n",
      "\n",
      "Please update conda by running\n",
      "\n",
      "    $ conda update -n base -c defaults conda\n",
      "\n",
      "\n",
      "\n",
      "## Package Plan ##\n",
      "\n",
      "  environment location: /cm/shared/apps/spack/0.17.3/gpu/b/opt/spack/linux-rocky8-skylake_avx512/gcc-8.5.0/anaconda3-2021.05-kfluefzsateihlamuk2qihp56exwe7si\n",
      "\n",
      "  added / updated specs:\n",
      "    - keras\n",
      "\n",
      "\n",
      "The following NEW packages will be INSTALLED:\n",
      "\n",
      "  keras              pkgs/main/linux-64::keras-2.12.0-py38h06a4308_0\n",
      "  keras-preprocessi~ pkgs/main/noarch::keras-preprocessing-1.1.2-pyhd3eb1b0_0\n",
      "\n",
      "\n",
      "Preparing transaction: done\n",
      "Verifying transaction: failed\n",
      "\n",
      "EnvironmentNotWritableError: The current user does not have write permissions to the target environment.\n",
      "  environment location: /cm/shared/apps/spack/0.17.3/gpu/b/opt/spack/linux-rocky8-skylake_avx512/gcc-8.5.0/anaconda3-2021.05-kfluefzsateihlamuk2qihp56exwe7si\n",
      "  uid: 534666\n",
      "  gid: 10853\n",
      "\n",
      "\n",
      "\n",
      "Note: you may need to restart the kernel to use updated packages.\n"
     ]
    }
   ],
   "source": [
    "conda install keras\n"
   ]
  },
  {
   "cell_type": "code",
   "execution_count": 17,
   "metadata": {},
   "outputs": [],
   "source": [
    "#conda install tensorflow=1.14\n",
    "#from keras.utils import np_utils"
   ]
  },
  {
   "cell_type": "code",
   "execution_count": 18,
   "metadata": {},
   "outputs": [
    {
     "name": "stdout",
     "output_type": "stream",
     "text": [
      "import done\n"
     ]
    }
   ],
   "source": [
    "# ----------- IMPORT STATEMENTS ---------------\n",
    "import numpy as np\n",
    "np.random.seed(1)  # for reproducibility\n",
    "\n",
    "from keras.models import Sequential               #Sequential models are the standard stack of layers models\n",
    "from keras.layers import Dense, Dropout, Activation, Flatten   #These are core layer specification functions\n",
    "from keras.layers import Convolution2D, MaxPooling2D           #These are convolution layer functions\n",
    "#from keras.utils import np_utils  \n",
    "from keras.utils import to_categorical\n",
    "#Some utilities\n",
    "from keras import optimizers                             #For training algorithm\n",
    "#---------------------------------------------\n",
    "print('import done')"
   ]
  },
  {
   "cell_type": "code",
   "execution_count": 19,
   "metadata": {},
   "outputs": [
    {
     "name": "stdout",
     "output_type": "stream",
     "text": [
      "(5000, 28, 28)\n",
      "img load done\n"
     ]
    }
   ],
   "source": [
    "#--------------- LOAD and PREPARE DATA STATEMENTS ----------------\n",
    "# Load some numpy arrays that have the MNIST data\n",
    "#  (these are subsets extracted from the MNIST data set in Keras)\n",
    "X_train=np.load('X_train5k.npy')\n",
    "Y_train=np.load('Y_train5k.npy')\n",
    "X_test =np.load('X_test.npy')\n",
    "Y_test =np.load('Y_test.npy')\n",
    "\n",
    "print(X_train.shape)     #review the dimensions Note python3 uses print(X..) python 2 uses print X...\n",
    "\n",
    "#save a few training images with the label in the file name \n",
    "from PIL import Image\n",
    "for i in range(0,3):\n",
    "   im = Image.fromarray(X_train[i,:,:])\n",
    "   im.save(\"Xtrain_num\"+str(i)+\"_cat_\"+str(Y_train[i])+\".jpeg\")\n",
    "print('img load done')"
   ]
  },
  {
   "cell_type": "code",
   "execution_count": null,
   "metadata": {},
   "outputs": [],
   "source": []
  },
  {
   "cell_type": "code",
   "execution_count": 20,
   "metadata": {},
   "outputs": [
    {
     "name": "stdout",
     "output_type": "stream",
     "text": [
      "1.0\n",
      "prep done\n"
     ]
    }
   ],
   "source": [
    "from keras.utils import to_categorical\n",
    "\n",
    "# Reshape input data\n",
    "X_train = X_train.reshape(X_train.shape[0], 1, 28, 28)\n",
    "X_test = X_test.reshape(X_test.shape[0], 1, 28, 28)\n",
    "\n",
    "# Convert input data to float32 and put into 0-1 range\n",
    "X_train = X_train.astype('float32') / 255\n",
    "X_test = X_test.astype('float32') / 255\n",
    "\n",
    "# One-hot encode labels\n",
    "Y_train = to_categorical(Y_train, 10)\n",
    "Y_test = to_categorical(Y_test, 10)\n",
    "\n",
    "# Print maximum value of X_train\n",
    "print(np.amax(X_train))  # This gets the max value over a flattened numpy array\n",
    "print('prep done')\n"
   ]
  },
  {
   "cell_type": "code",
   "execution_count": 21,
   "metadata": {},
   "outputs": [
    {
     "name": "stdout",
     "output_type": "stream",
     "text": [
      "modeldef and first conv layer done\n"
     ]
    }
   ],
   "source": [
    "# --------------Set up Model ---------------------\n",
    "mymodel = Sequential()\n",
    "\n",
    "numfilters = 16\n",
    "#add convolution layer of 32 or 16 or __ filters, 3x3 each, \n",
    "#     input shape for 1 image, channels refers to color dimension of input image\n",
    "mymodel.add(Convolution2D(numfilters, (3, 3),strides=1,  data_format=\"channels_first\",activation='relu', input_shape=(1,28,28))) \n",
    " \n",
    "print('modeldef and first conv layer done')\n"
   ]
  },
  {
   "cell_type": "code",
   "execution_count": 22,
   "metadata": {},
   "outputs": [
    {
     "data": {
      "text/plain": [
       "<KerasTensor: shape=(None, 16, 26, 26) dtype=float32 (created by layer 'conv2d_2')>"
      ]
     },
     "execution_count": 22,
     "metadata": {},
     "output_type": "execute_result"
    }
   ],
   "source": [
    "mymodel.layers[0].output # use this to check sizes of output  "
   ]
  },
  {
   "cell_type": "code",
   "execution_count": 23,
   "metadata": {},
   "outputs": [],
   "source": [
    "#-----------------Now add more Convolution layers\n",
    "mymodel.add(Convolution2D(numfilters, (3, 3), activation='relu'))\n",
    "mymodel.add(MaxPooling2D(pool_size=(2,2))) #get Max over 2D region,and slide\n",
    "\n",
    "#optional?\n",
    "mymodel.add(Dropout(0.25))\n",
    " \n",
    "mymodel.add(Flatten())            #reorganize 2DxFilters output into 1D"
   ]
  },
  {
   "cell_type": "code",
   "execution_count": 24,
   "metadata": {},
   "outputs": [
    {
     "data": {
      "text/plain": [
       "<KerasTensor: shape=(None, 7, 12, 16) dtype=float32 (created by layer 'max_pooling2d_1')>"
      ]
     },
     "execution_count": 24,
     "metadata": {},
     "output_type": "execute_result"
    }
   ],
   "source": [
    "mymodel.layers[2].output   #size of output layer for max pooling"
   ]
  },
  {
   "cell_type": "code",
   "execution_count": 25,
   "metadata": {},
   "outputs": [
    {
     "name": "stdout",
     "output_type": "stream",
     "text": [
      "assemble model done\n"
     ]
    }
   ],
   "source": [
    "#----------------Now add final classification layers\n",
    "mymodel.add(Dense(128, activation='relu'))  #enter number of hidden units (no good rule, but start with ~ num of previous output) \n",
    "mymodel.add(Dropout(0.5))\n",
    "mymodel.add(Dense(10, activation='softmax'))\n",
    "print('assemble model done')"
   ]
  },
  {
   "cell_type": "code",
   "execution_count": 26,
   "metadata": {},
   "outputs": [],
   "source": [
    "# --------- Now assemble (ie compile TensorFlow commands) and run -----\n",
    "mymodel.compile(loss='categorical_crossentropy',\n",
    "               optimizer='sgd',\n",
    "               metrics=['accuracy'])"
   ]
  },
  {
   "cell_type": "code",
   "execution_count": 27,
   "metadata": {},
   "outputs": [
    {
     "name": "stdout",
     "output_type": "stream",
     "text": [
      "Epoch 1/15\n",
      "157/157 [==============================] - 1s 3ms/step - loss: 2.1903 - accuracy: 0.2134\n",
      "Epoch 2/15\n",
      "157/157 [==============================] - 0s 3ms/step - loss: 1.4389 - accuracy: 0.5344\n",
      "Epoch 3/15\n",
      "157/157 [==============================] - 0s 3ms/step - loss: 0.9072 - accuracy: 0.7078\n",
      "Epoch 4/15\n",
      "157/157 [==============================] - 0s 3ms/step - loss: 0.7464 - accuracy: 0.7638\n",
      "Epoch 5/15\n",
      "157/157 [==============================] - 0s 3ms/step - loss: 0.6236 - accuracy: 0.8032\n",
      "Epoch 6/15\n",
      "157/157 [==============================] - 0s 3ms/step - loss: 0.5652 - accuracy: 0.8288\n",
      "Epoch 7/15\n",
      "157/157 [==============================] - 0s 3ms/step - loss: 0.5123 - accuracy: 0.8478\n",
      "Epoch 8/15\n",
      "157/157 [==============================] - 0s 3ms/step - loss: 0.4832 - accuracy: 0.8566\n",
      "Epoch 9/15\n",
      "157/157 [==============================] - 0s 3ms/step - loss: 0.4324 - accuracy: 0.8718\n",
      "Epoch 10/15\n",
      "157/157 [==============================] - 0s 3ms/step - loss: 0.4175 - accuracy: 0.8760\n",
      "Epoch 11/15\n",
      "157/157 [==============================] - 0s 3ms/step - loss: 0.3916 - accuracy: 0.8812\n",
      "Epoch 12/15\n",
      "157/157 [==============================] - 0s 3ms/step - loss: 0.3744 - accuracy: 0.8906\n",
      "Epoch 13/15\n",
      "157/157 [==============================] - 0s 3ms/step - loss: 0.3394 - accuracy: 0.8976\n",
      "Epoch 14/15\n",
      "157/157 [==============================] - 0s 3ms/step - loss: 0.3366 - accuracy: 0.8962\n",
      "Epoch 15/15\n",
      "157/157 [==============================] - 0s 3ms/step - loss: 0.3140 - accuracy: 0.9062\n"
     ]
    },
    {
     "data": {
      "text/plain": [
       "<keras.src.callbacks.History at 0x1554e24390a0>"
      ]
     },
     "execution_count": 27,
     "metadata": {},
     "output_type": "execute_result"
    }
   ],
   "source": [
    "#------------ Now Run Training\n",
    "mymodel.fit(X_train, Y_train, \n",
    "          batch_size=32, epochs=15, verbose=1)  #batch up 32 examples before adjusting weights,\n",
    "                                                #sweep through training data 'epochs' times\n"
   ]
  },
  {
   "cell_type": "code",
   "execution_count": 28,
   "metadata": {},
   "outputs": [
    {
     "name": "stdout",
     "output_type": "stream",
     "text": [
      "157/157 [==============================] - 0s 1ms/step - loss: 0.1692 - accuracy: 0.9550\n",
      "313/313 [==============================] - 0s 1ms/step - loss: 0.2206 - accuracy: 0.9333\n",
      "[0.16924729943275452, 0.9549999833106995]\n",
      "[0.220572829246521, 0.9333000183105469]\n"
     ]
    }
   ],
   "source": [
    "#--------- Get overall prediction score\n",
    "trainscore = mymodel.evaluate(X_train, Y_train, verbose=1) # get overal score\n",
    "testscore  = mymodel.evaluate(X_test, Y_test, verbose=1) # get overal score\n",
    "#somepred  = mymodel.predict(X_test,verbose=0)           # get predicted labels\n",
    "print(trainscore)\n",
    "print(testscore)"
   ]
  },
  {
   "cell_type": "code",
   "execution_count": 29,
   "metadata": {},
   "outputs": [
    {
     "name": "stdout",
     "output_type": "stream",
     "text": [
      "[[0. 0. 1. 0. 0. 0. 0. 0. 0. 0.]\n",
      " [0. 1. 0. 0. 0. 0. 0. 0. 0. 0.]]\n"
     ]
    }
   ],
   "source": [
    "#-----------Optional: View some of the output\n",
    "#print(somepred[1:3])\n",
    "#Notice each row is 10 elements, each element is a prediction of the number labels \n",
    "print(Y_test[1:3])"
   ]
  },
  {
   "cell_type": "code",
   "execution_count": 30,
   "metadata": {},
   "outputs": [
    {
     "data": {
      "image/png": "[encoded data removed]",
      "text/plain": [
       "<Figure size 432x288 with 1 Axes>"
      ]
     },
     "metadata": {
      "needs_background": "light"
     },
     "output_type": "display_data"
    },
    {
     "name": "stdout",
     "output_type": "stream",
     "text": [
      "im loaded\n"
     ]
    }
   ],
   "source": [
    "#To view a sample image\n",
    "import matplotlib.pyplot as plt      #These provide matlab type of plotting functions\n",
    "import matplotlib.image as mpimg\n",
    "\n",
    "img_filename = \"Xtrain_num0_cat_5.jpeg\" #% scriptDir \n",
    "im = mpimg.imread(img_filename)\n",
    "plt.figure()\n",
    "plt.imshow(im,'gray')\n",
    "plt.show()\n",
    "print('im loaded')"
   ]
  },
  {
   "cell_type": "code",
   "execution_count": 31,
   "metadata": {},
   "outputs": [
    {
     "name": "stdout",
     "output_type": "stream",
     "text": [
      "4.0\n"
     ]
    },
    {
     "name": "stderr",
     "output_type": "stream",
     "text": [
      "<ipython-input-31-aed5cdde8caa>:15: MatplotlibDeprecationWarning: Passing non-integers as three-element position specification is deprecated since 3.3 and will be removed two minor releases later.\n",
      "  plt.subplot(nrow,ncol,i+1)\n"
     ]
    },
    {
     "data": {
      "image/png": "[encoded data removed]",
      "text/plain": [
       "<Figure size 432x288 with 16 Axes>"
      ]
     },
     "metadata": {
      "needs_background": "light"
     },
     "output_type": "display_data"
    },
    {
     "name": "stdout",
     "output_type": "stream",
     "text": [
      "done plotting weights mosaic\n"
     ]
    }
   ],
   "source": [
    "# ------------ GET WEIGHTS From Convolution Layer and make mosaic image \n",
    "Wlist   =mymodel.layers[0].get_weights()\n",
    "W3D     =np.squeeze(Wlist[0])\n",
    "W3D.shape\n",
    "W3Dchan =W3D.swapaxes(1,2).swapaxes(0,1)  #get 32 as 1st dimension\n",
    "\n",
    "Wmin       =np.amin(W3Dchan)\n",
    "Wmax       =np.amax(W3Dchan-Wmin)\n",
    "Wsc        =np.int_(255*(W3Dchan-Wmin)/Wmax)\n",
    "ncol =4\n",
    "nrow =np.ceil(numfilters/ncol)\n",
    "print(nrow)\n",
    "plt.figure()\n",
    "for i in range(Wsc.shape[0]):\n",
    "   plt.subplot(nrow,ncol,i+1)\n",
    "   plt.imshow(Wsc[i],'gray')\n",
    "   plt.axis('off')\n",
    "#plt.savefig(\"test.png\", bbox_inches='tight')\n",
    "plt.show()\n",
    "print('done plotting weights mosaic')"
   ]
  },
  {
   "cell_type": "code",
   "execution_count": 32,
   "metadata": {},
   "outputs": [
    {
     "data": {
      "text/plain": [
       "(1, 16, 26, 26)"
      ]
     },
     "execution_count": 32,
     "metadata": {},
     "output_type": "execute_result"
    }
   ],
   "source": [
    "#  ---------------- NOW Visualize the activations for the first training example --------\n",
    "from keras import backend as K    #backend is tensorflow\n",
    "\n",
    "get_layer_output = K.function([mymodel.layers[0].input],[mymodel.layers[0].output]) #set up function\n",
    "x                = np.expand_dims(X_train[0],0)           #set up a 4D input of 1 image training set \n",
    "layer_output     = get_layer_output([x])[0]  #get output using K.function\n",
    "\n",
    "layer_output.shape    #check output shape and use it in next cell, first dimension is number of filters\n",
    "\n"
   ]
  },
  {
   "cell_type": "code",
   "execution_count": 33,
   "metadata": {
    "scrolled": true
   },
   "outputs": [
    {
     "name": "stderr",
     "output_type": "stream",
     "text": [
      "<ipython-input-33-e2c09716b56a>:7: MatplotlibDeprecationWarning: Passing non-integers as three-element position specification is deprecated since 3.3 and will be removed two minor releases later.\n",
      "  plt.subplot(nrow,ncol,i+1)\n"
     ]
    },
    {
     "data": {
      "image/png": "[encoded data removed]",
      "text/plain": [
       "<Figure size 432x288 with 16 Axes>"
      ]
     },
     "metadata": {
      "needs_background": "light"
     },
     "output_type": "display_data"
    },
    {
     "name": "stdout",
     "output_type": "stream",
     "text": [
      "done plotting layer activation output mosaic\n"
     ]
    }
   ],
   "source": [
    "# --- Now output a mosaic\n",
    "layeroutput3D      = np.squeeze(layer_output)      \n",
    "ncol =4\n",
    "nrow =np.ceil(numfilters/ncol)\n",
    "plt.figure()\n",
    "for i in range(layeroutput3D.shape[0]):\n",
    "   plt.subplot(nrow,ncol,i+1)\n",
    "   plt.imshow(layeroutput3D[i],'gray')\n",
    "   plt.axis('off')\n",
    "#plt.savefig(\"test.png\", bbox_inches='tight')\n",
    "plt.show()\n",
    "print('done plotting layer activation output mosaic')\n"
   ]
  },
  {
   "cell_type": "code",
   "execution_count": null,
   "metadata": {},
   "outputs": [],
   "source": []
  },
  {
   "cell_type": "code",
   "execution_count": null,
   "metadata": {},
   "outputs": [],
   "source": []
  }
 ],
 "metadata": {
  "kernelspec": {
   "display_name": "Python 3",
   "language": "python",
   "name": "python3"
  },
  "language_info": {
   "codemirror_mode": {
    "name": "ipython",
    "version": 3
   },
   "file_extension": ".py",
   "mimetype": "text/x-python",
   "name": "python",
   "nbconvert_exporter": "python",
   "pygments_lexer": "ipython3",
   "version": "3.8.8"
  }
 },
 "nbformat": 4,
 "nbformat_minor": 4
}
